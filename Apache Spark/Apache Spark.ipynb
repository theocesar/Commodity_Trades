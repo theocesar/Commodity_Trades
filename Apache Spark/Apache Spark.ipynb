{
  "nbformat": 4,
  "nbformat_minor": 0,
  "metadata": {
    "colab": {
      "provenance": []
    },
    "kernelspec": {
      "name": "python3",
      "display_name": "Python 3"
    },
    "language_info": {
      "name": "python"
    }
  },
  "cells": [
    {
      "cell_type": "markdown",
      "source": [
        "**INTEGRANTES:**\n",
        "\n",
        "**Gabriel Sposito Conciani**\n",
        "\n",
        "**Pedro Henrique Faria Amadeu**\n",
        "\n",
        "**Théo César Zanotto da Silva**\n",
        "\n",
        "**Thomas Frentzel**"
      ],
      "metadata": {
        "id": "xLoH4OGer_9g"
      }
    },
    {
      "cell_type": "code",
      "execution_count": 1,
      "metadata": {
        "id": "_m-y-P9ykDH2",
        "colab": {
          "base_uri": "https://localhost:8080/"
        },
        "outputId": "551a9548-eed1-4552-c989-a4aa7dcdfd17"
      },
      "outputs": [
        {
          "output_type": "stream",
          "name": "stdout",
          "text": [
            "Looking in indexes: https://pypi.org/simple, https://us-python.pkg.dev/colab-wheels/public/simple/\n",
            "Collecting pyspark\n",
            "  Downloading pyspark-3.4.0.tar.gz (310.8 MB)\n",
            "\u001b[2K     \u001b[90m━━━━━━━━━━━━━━━━━━━━━━━━━━━━━━━━━━━━━━━\u001b[0m \u001b[32m310.8/310.8 MB\u001b[0m \u001b[31m3.6 MB/s\u001b[0m eta \u001b[36m0:00:00\u001b[0m\n",
            "\u001b[?25h  Preparing metadata (setup.py) ... \u001b[?25l\u001b[?25hdone\n",
            "Requirement already satisfied: py4j==0.10.9.7 in /usr/local/lib/python3.10/dist-packages (from pyspark) (0.10.9.7)\n",
            "Building wheels for collected packages: pyspark\n",
            "  Building wheel for pyspark (setup.py) ... \u001b[?25l\u001b[?25hdone\n",
            "  Created wheel for pyspark: filename=pyspark-3.4.0-py2.py3-none-any.whl size=311317130 sha256=640507100bbc2d5cd4fbd27a1145a99cfc2057380cf42519769f1eab3d92ebeb\n",
            "  Stored in directory: /root/.cache/pip/wheels/7b/1b/4b/3363a1d04368e7ff0d408e57ff57966fcdf00583774e761327\n",
            "Successfully built pyspark\n",
            "Installing collected packages: pyspark\n",
            "Successfully installed pyspark-3.4.0\n"
          ]
        }
      ],
      "source": [
        "# Installing spark\n",
        "!pip install pyspark"
      ]
    },
    {
      "cell_type": "code",
      "source": [
        "# Importing the dataset\n",
        "!wget https://jpbarddal.github.io/assets/data/bigdata/transactions_amostra.csv.zip\n",
        "!unzip transactions_amostra.csv.zip"
      ],
      "metadata": {
        "colab": {
          "base_uri": "https://localhost:8080/"
        },
        "id": "qUIKOPBDX0hV",
        "outputId": "c8390928-bd24-474a-fe85-7dcaa4270d40"
      },
      "execution_count": 2,
      "outputs": [
        {
          "output_type": "stream",
          "name": "stdout",
          "text": [
            "--2023-05-29 13:21:15--  https://jpbarddal.github.io/assets/data/bigdata/transactions_amostra.csv.zip\n",
            "Resolving jpbarddal.github.io (jpbarddal.github.io)... 185.199.109.153, 185.199.111.153, 185.199.110.153, ...\n",
            "Connecting to jpbarddal.github.io (jpbarddal.github.io)|185.199.109.153|:443... connected.\n",
            "HTTP request sent, awaiting response... 200 OK\n",
            "Length: 47513871 (45M) [application/zip]\n",
            "Saving to: ‘transactions_amostra.csv.zip’\n",
            "\n",
            "transactions_amostr 100%[===================>]  45.31M   162MB/s    in 0.3s    \n",
            "\n",
            "2023-05-29 13:21:19 (162 MB/s) - ‘transactions_amostra.csv.zip’ saved [47513871/47513871]\n",
            "\n",
            "Archive:  transactions_amostra.csv.zip\n",
            "  inflating: transactions_amostra.csv  \n",
            "  inflating: __MACOSX/._transactions_amostra.csv  \n"
          ]
        }
      ]
    },
    {
      "cell_type": "code",
      "source": [
        "# Criando a sessao\n",
        "from pyspark.sql import SparkSession\n",
        "\n",
        "spark = SparkSession.builder\\\n",
        "                    .master('local[*]')\\\n",
        "                    .appName('theo').getOrCreate()\n",
        "sc = spark.sparkContext"
      ],
      "metadata": {
        "id": "XmisjmDLlfl0"
      },
      "execution_count": 3,
      "outputs": []
    },
    {
      "cell_type": "markdown",
      "source": [
        "**Loading the file and removing the header**"
      ],
      "metadata": {
        "id": "YNmS68zTcfoQ"
      }
    },
    {
      "cell_type": "code",
      "source": [
        "# Uploading the file\n",
        "# Removing the header and creating a new updated rdd\n",
        "rdd_commodities = sc.textFile('transactions_amostra.csv')\n",
        "header = rdd_commodities.first()\n",
        "rdd_commodities = rdd_commodities.filter(lambda x: x != header)\n",
        "rdd_commodities.take(10)"
      ],
      "metadata": {
        "id": "oS4umRqalttw",
        "colab": {
          "base_uri": "https://localhost:8080/"
        },
        "outputId": "fdcc2a67-7bb6-427f-f4fe-fa085970338f"
      },
      "execution_count": 4,
      "outputs": [
        {
          "output_type": "execute_result",
          "data": {
            "text/plain": [
              "['Belgium;2016;920510;Brass-wind instruments;Export;571297;3966.0;Number of items;4135.0;92_musical_instruments_parts_and_accessories',\n",
              " 'Guatemala;2008;660200;Walking-sticks, seat-sticks, whips, etc.;Export;35022;5575.0;Number of items;10089.0;66_umbrellas_walking_sticks_seat_sticks_whips_etc',\n",
              " 'Barbados;2006;220210;Beverage waters, sweetened or flavoured;Re-Export;81058;44458.0;Volume in litres;24113.0;22_beverages_spirits_and_vinegar',\n",
              " 'Tunisia;2016;780411;Lead foil of a thickness <2mm;Import;4658;121.0;Weight in kilograms;121.0;78_lead_and_articles_thereof',\n",
              " 'Lithuania;1996;560110;Sanitary towels, diapers and similar articles;Export;76499;5419.0;Weight in kilograms;5419.0;56_wadding_felt_nonwovens_yarns_twine_cordage_etc',\n",
              " 'Denmark;2011;310100;Animal or vegetable fertilizers, in packs >10 kg;Export;4903675;19028440.0;Weight in kilograms;19028440.0;31_fertilizers',\n",
              " 'Thailand;1994;920290;String musical instruments nes;Import;2088672;0.0;Number of items;59595.0;92_musical_instruments_parts_and_accessories',\n",
              " 'Portugal;2004;511119;Woven fabric, >85% carded wool or fine hair, >300 g/m;Export;1546575;87367.0;Weight in kilograms;87367.0;51_wool_animal_hair_horsehair_yarn_and_fabric_thereof',\n",
              " 'Congo;2011;420690;Articles of gut, goldbeater skin, bladder, tendons ne;Export;883;9.0;Weight in kilograms;9.0;42_articles_of_leather_animal_gut_harness_travel_good',\n",
              " 'Antigua and Barbuda;2016;620332;Mens, boys jackets & blazers, of cotton, not knit;Export;12988;1403.0;Number of items;648.0;62_articles_of_apparel_accessories_not_knit_or_crochet']"
            ]
          },
          "metadata": {},
          "execution_count": 4
        }
      ]
    },
    {
      "cell_type": "markdown",
      "source": [
        "**1:** **The number of transactions involving Brazil.**"
      ],
      "metadata": {
        "id": "YT56CX1QZRsT"
      }
    },
    {
      "cell_type": "code",
      "source": [
        "# Picking only the transactions from Brazil\n",
        "rdd_brazil = rdd_commodities.filter(lambda x: x.split(';')[0] == 'Brazil')\n",
        "\n",
        "# Counting the number of transactions\n",
        "rdd_brazil.count()"
      ],
      "metadata": {
        "id": "XHwgkfc8q6t8",
        "colab": {
          "base_uri": "https://localhost:8080/"
        },
        "outputId": "65a27757-57e8-437f-89cc-5f497989d3cd"
      },
      "execution_count": 9,
      "outputs": [
        {
          "output_type": "execute_result",
          "data": {
            "text/plain": [
              "27463"
            ]
          },
          "metadata": {},
          "execution_count": 9
        }
      ]
    },
    {
      "cell_type": "markdown",
      "source": [
        "**2: The number of transactions per flow type and year.**"
      ],
      "metadata": {
        "id": "1AfiVVgGZVMG"
      }
    },
    {
      "cell_type": "code",
      "source": [
        "# Mapping flow and year as keys\n",
        "# Mapping 1 as value\n",
        "rdd_flow_year = rdd_commodities.map(lambda x: ((x.split(';')[1], # year \n",
        "                                                x.split(';')[4]), 1)) # flow as key and 1 as value\n",
        "\n",
        "# Reducing the rdd to count the number of transactions\n",
        "cont = rdd_flow_year.reduceByKey(lambda x,y: x + y)\n",
        "\n",
        "# Ordering the resulting rdd and displaying the key-value pair\n",
        "ordenado = cont.sortBy(lambda x: x[0], ascending=False)\n",
        "ordenado.take(10)"
      ],
      "metadata": {
        "id": "Y3Uu4rxQZWjB",
        "colab": {
          "base_uri": "https://localhost:8080/"
        },
        "outputId": "80defda9-454d-4b67-a44e-e1b6ab9adfb4"
      },
      "execution_count": 10,
      "outputs": [
        {
          "output_type": "execute_result",
          "data": {
            "text/plain": [
              "[(('2016', 'Re-Import'), 939),\n",
              " (('2016', 'Re-Export'), 2298),\n",
              " (('2016', 'Import'), 22583),\n",
              " (('2016', 'Export'), 15260),\n",
              " (('2015', 'Re-Import'), 1479),\n",
              " (('2015', 'Re-Export'), 2646),\n",
              " (('2015', 'Import'), 28834),\n",
              " (('2015', 'Export'), 17756),\n",
              " (('2014', 'Re-Import'), 1457),\n",
              " (('2014', 'Re-Export'), 2806)]"
            ]
          },
          "metadata": {},
          "execution_count": 10
        }
      ]
    },
    {
      "cell_type": "markdown",
      "source": [
        "**3: The average of commodity values per year.**"
      ],
      "metadata": {
        "id": "56VZ0gsAbH83"
      }
    },
    {
      "cell_type": "code",
      "source": [
        "# Mapping year as key\n",
        "# Mapping price and 1 as values\n",
        "rdd_average_value = rdd_commodities.map(lambda x: (x.split(';')[1], # year \n",
        "                                                  (float(x.split(';')[5]), 1))) # price and 1\n",
        "\n",
        "# Reducing the rdd to sum price and quantity first\n",
        "soma = rdd_average_value.reduceByKey(lambda x, y: (x[0] + y[0], # summing the price\n",
        "                                                   x[1] + y[1])) # summing the quantity\n",
        "\n",
        "# Calculating the average value in the resulting rdd \n",
        "media = soma.mapValues(lambda x: x[0] / x[1])\n",
        "\n",
        "# Ordering the resulting rdd and displaying the key-value pair in a ascending manner.\n",
        "ordenado = media.sortBy(lambda x: x[0], ascending=True)\n",
        "ordenado.take(10)"
      ],
      "metadata": {
        "id": "K1cqqvQxbJec",
        "colab": {
          "base_uri": "https://localhost:8080/"
        },
        "outputId": "45c8117c-87d9-4745-ecbd-46ccccc8b2c7"
      },
      "execution_count": 11,
      "outputs": [
        {
          "output_type": "execute_result",
          "data": {
            "text/plain": [
              "[('1988', 18642970.55638571),\n",
              " ('1989', 11263871.329920229),\n",
              " ('1990', 11724265.86778952),\n",
              " ('1991', 13069223.85515173),\n",
              " ('1992', 9402960.863025468),\n",
              " ('1993', 10353959.855309162),\n",
              " ('1994', 11350325.049077941),\n",
              " ('1995', 12286454.103356835),\n",
              " ('1996', 11945524.161286663),\n",
              " ('1997', 9549881.214776853)]"
            ]
          },
          "metadata": {},
          "execution_count": 11
        }
      ]
    },
    {
      "cell_type": "markdown",
      "source": [
        "**4: The average price of commodities per unit type, year, and category in the export flow\n",
        "in Brazil.**"
      ],
      "metadata": {
        "id": "oKsKdbRwcoiI"
      }
    },
    {
      "cell_type": "code",
      "source": [
        "# Filtering the rdd to pick only the transactions from 2016 made in Brazil.\n",
        "rdd_average_price = rdd_commodities.filter(lambda x: x.split(';')[0] == 'Brazil' and x.split(';')[4] == 'Export')\n",
        "\n",
        "# Mapping year, unit type and category as keys\n",
        "# Mapping price and 1 as values\n",
        "rdd_average_price = rdd_average_price.map(lambda x: ((x.split(';')[1], # year\n",
        "                                                      x.split(';')[7], # unit type\n",
        "                                                      x.split(';')[9]), # category\n",
        "                                                     \n",
        "                                                    (float(x.split(';')[5]), 1))) # price and quantity\n",
        "\n",
        "# Reducing the rdd to sum price and quantity first\n",
        "soma = rdd_average_price.reduceByKey(lambda x, y: (x[0] + y[0], # summing the price\n",
        "                                                   x[1] + y[1])) # summing the quantity\n",
        "\n",
        "# Calculating the average value in the resulting rdd \n",
        "media = soma.mapValues(lambda x: x[0] / x[1])\n",
        "\n",
        "# Ordering the resulting rdd and displaying the key-value pair in a descending manner.\n",
        "ordenado = media.sortBy(lambda x: x[0], ascending=False)\n",
        "ordenado.take(10)"
      ],
      "metadata": {
        "id": "dTvUTPsqcpqT",
        "colab": {
          "base_uri": "https://localhost:8080/"
        },
        "outputId": "b224885d-a151-40b9-d24b-562694386ba5"
      },
      "execution_count": 12,
      "outputs": [
        {
          "output_type": "execute_result",
          "data": {
            "text/plain": [
              "[(('2016',\n",
              "   'Weight in kilograms',\n",
              "   '97_works_of_art_collectors_pieces_and_antiques'),\n",
              "  305909.0),\n",
              " (('2016', 'Weight in kilograms', '96_miscellaneous_manufactured_articles'),\n",
              "  2152944.5),\n",
              " (('2016', 'Weight in kilograms', '95_toys_games_sports_requisites'),\n",
              "  667820.0),\n",
              " (('2016',\n",
              "   'Weight in kilograms',\n",
              "   '94_furniture_lighting_signs_prefabricated_buildings'),\n",
              "  5116585.142857143),\n",
              " (('2016', 'Weight in kilograms', '91_clocks_and_watches_and_parts_thereof'),\n",
              "  1672.0),\n",
              " (('2016', 'Weight in kilograms', '88_aircraft_spacecraft_and_parts_thereof'),\n",
              "  169835892.0),\n",
              " (('2016', 'Weight in kilograms', '87_vehicles_other_than_railway_tramway'),\n",
              "  143839036.33333334),\n",
              " (('2016',\n",
              "   'Weight in kilograms',\n",
              "   '86_railway_tramway_locomotives_rolling_stock_equipmen'),\n",
              "  4160027.0),\n",
              " (('2016', 'Weight in kilograms', '83_miscellaneous_articles_of_base_metal'),\n",
              "  418903402.6666667),\n",
              " (('2016',\n",
              "   'Weight in kilograms',\n",
              "   '82_tools_implements_cutlery_etc_of_base_metal'),\n",
              "  1865728.5)]"
            ]
          },
          "metadata": {},
          "execution_count": 12
        }
      ]
    },
    {
      "cell_type": "markdown",
      "source": [
        "**5: The maximum, minimum, and mean transaction price per unit type and year.**"
      ],
      "metadata": {
        "id": "1lwmaNMDFBVy"
      }
    },
    {
      "cell_type": "code",
      "source": [
        "# Mapping year and unit type as keys\n",
        "# Mapping price and 1 as values\n",
        "rdd_maximum_minimum = rdd_commodities.map(lambda x: ((x.split(';')[1], # year\n",
        "                                                      x.split(';')[7]), # unit type\n",
        "                                                     \n",
        "                                                    (float(x.split(';')[5]), # price for max value\n",
        "                                                    float(x.split(';')[5]), # price for min value\n",
        "                                                    float(x.split(';')[5]), 1))) # price and quantity\n",
        "\n",
        "# Reducing the rdd to sum price and quantity first\n",
        "# Checking what is the max and min value for each key\n",
        "soma = rdd_maximum_minimum.reduceByKey(lambda x, y: (x[0] if x[0] > y[0] else y[0], # calculating the max value\n",
        "                                                     x[1] if x[1] < y[1] else y[1], # calculating the min value\n",
        "                                                     x[2] + y[2], # summing the price\n",
        "                                                     x[3] + y[3])) # summing the quantity\n",
        "\n",
        "# Calculating the average value and displaying the other values using the mapValues function\n",
        "media = soma.mapValues(lambda x: (f\"MAX:{x[0]}, MIN: {x[1]}, MÉDIA: {x[2] / x[3]}\"))\n",
        "\n",
        "# Ordering the resulting rdd and displaying the key-value pair in a descending manner.\n",
        "ordenado = media.sortBy(lambda x: x[0], ascending=False)\n",
        "ordenado.take(10)"
      ],
      "metadata": {
        "id": "d_ehdzPwFCZY",
        "colab": {
          "base_uri": "https://localhost:8080/"
        },
        "outputId": "18c074c2-72a3-40f2-9f5c-47838561575a"
      },
      "execution_count": 13,
      "outputs": [
        {
          "output_type": "execute_result",
          "data": {
            "text/plain": [
              "[(('2016', 'Weight in kilograms'),\n",
              "  'MAX:54041714444.0, MIN: 1.0, MÉDIA: 29000750.044637196'),\n",
              " (('2016', 'Weight in carats'),\n",
              "  'MAX:9557468.0, MIN: 7957993.0, MÉDIA: 8757730.5'),\n",
              " (('2016', 'Volume in litres'),\n",
              "  'MAX:1547191989.0, MIN: 11.0, MÉDIA: 28192937.36598891'),\n",
              " (('2016', 'Volume in cubic meters'),\n",
              "  'MAX:4052653026.0, MIN: 203.0, MÉDIA: 45403992.22794118'),\n",
              " (('2016', 'Thousands of items'),\n",
              "  'MAX:8554139.0, MIN: 1500.0, MÉDIA: 2027251.0'),\n",
              " (('2016', 'Number of pairs'),\n",
              "  'MAX:1865315579.0, MIN: 20.0, MÉDIA: 39341504.41324201'),\n",
              " (('2016', 'Number of packages'),\n",
              "  'MAX:115285573.0, MIN: 2666.0, MÉDIA: 6871851.043478261'),\n",
              " (('2016', 'Number of items'),\n",
              "  'MAX:19782901523.0, MIN: 1.0, MÉDIA: 35447054.15630021'),\n",
              " (('2016', 'Length in metres'),\n",
              "  'MAX:961206.0, MIN: 19.0, MÉDIA: 74562.9512195122'),\n",
              " (('2016', 'Electrical energy in thousands of kilowatt-hours'),\n",
              "  'MAX:1065282687.0, MIN: 1128262.0, MÉDIA: 233217751.375')]"
            ]
          },
          "metadata": {},
          "execution_count": 13
        }
      ]
    },
    {
      "cell_type": "markdown",
      "source": [
        "**6: The country with the largest average commodity price in the Export flow.**"
      ],
      "metadata": {
        "id": "1GNdp5Hd-vob"
      }
    },
    {
      "cell_type": "code",
      "source": [
        "# Picking only the transactions from the Export flow\n",
        "rdd_largest_price = rdd_commodities.filter(lambda x: x.split(';')[4] == 'Export')\n",
        "\n",
        "# Mapping country as key\n",
        "# Mapping price and 1 as values\n",
        "rdd_largest_price = rdd_largest_price.map(lambda x: (x.split(';')[0], # country\n",
        "                                                    (float(x.split(';')[5]), 1))) # price and quantity\n",
        "\n",
        "# Reducing the rdd to sum price and quantity first\n",
        "soma1 = rdd_largest_price.reduceByKey(lambda x, y: (x[0] + y[0], # summing the price\n",
        "                                                    x[1] + y[1])) # summing the quantity\n",
        "\n",
        "# Calculating the average value in the resulting rdd \n",
        "media = soma1.mapValues(lambda x: (x[0] / x[1]))\n",
        "\n",
        "# Discovering the wanted country using the max built-in function and displaying the value\n",
        "largest = media.max(lambda x: x[1])\n",
        "largest"
      ],
      "metadata": {
        "id": "wJVopTLw-xZ9",
        "colab": {
          "base_uri": "https://localhost:8080/"
        },
        "outputId": "561be2d1-f576-431f-8906-38dffa9450b8"
      },
      "execution_count": 14,
      "outputs": [
        {
          "output_type": "execute_result",
          "data": {
            "text/plain": [
              "('Angola', 16369666068.142857)"
            ]
          },
          "metadata": {},
          "execution_count": 14
        }
      ]
    },
    {
      "cell_type": "markdown",
      "source": [
        "**7: The most commercialized commodity (summing the quantities) in 2016, per flow\n",
        "type.**"
      ],
      "metadata": {
        "id": "6hFTybSeDKzu"
      }
    },
    {
      "cell_type": "code",
      "source": [
        "# Picking only the transactions from 2016\n",
        "rdd_most_commercialized = rdd_commodities.filter(lambda x: x.split(';')[1] == '2016')\n",
        "\n",
        "# Mapping flow and commodity description as keys\n",
        "# Mapping amount as value\n",
        "rdd_most_commercialized = rdd_most_commercialized.map(lambda x: ((x.split(';')[4], # flow \n",
        "                                                                  x.split(';')[3]), # commodity description\n",
        "                                                                                                    \n",
        "                                                                 float(x.split(';')[8]))) # amount\n",
        "\n",
        "# Reducing the rdd to sum the quantities  \n",
        "soma = rdd_most_commercialized.reduceByKey(lambda x, y: x + y)\n",
        "\n",
        "# Doing a second map\n",
        "# Flow as key\n",
        "# Commodity description and the sum of quantities as values\n",
        "rdd_2 = soma.map(lambda x: (x[0][0], # Flow\n",
        "                           (x[0][1], # Commodity description \n",
        "                            x[1]))) # Sum of quantities \n",
        "\n",
        "# Reducing again to discover the wanted commodities and displaying the result\n",
        "rdd_2 = rdd_2.reduceByKey(lambda x, y: (x if x[1] > y[1] else y))\n",
        "rdd_2.take(10)"
      ],
      "metadata": {
        "id": "XbNcVC10DL5r",
        "colab": {
          "base_uri": "https://localhost:8080/"
        },
        "outputId": "845cbf9d-a9f5-4bef-ccb1-12aaa60f6415"
      },
      "execution_count": 15,
      "outputs": [
        {
          "output_type": "execute_result",
          "data": {
            "text/plain": [
              "[('Export',\n",
              "  ('Iron ore, concentrate, not iron pyrites,unagglomerate', 379546246752.0)),\n",
              " ('Import',\n",
              "  ('Petroleum oils, oils from bituminous minerals, crude', 258289373308.0)),\n",
              " ('Re-Export',\n",
              "  ('Safety razor blades, including blanks in strips', 1261968000.0)),\n",
              " ('Re-Import',\n",
              "  ('Chem wood pulp, soda/sulphate, non-conifer, bleached', 38774873.0))]"
            ]
          },
          "metadata": {},
          "execution_count": 15
        }
      ]
    }
  ]
}